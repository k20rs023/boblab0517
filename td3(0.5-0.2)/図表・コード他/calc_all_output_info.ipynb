{
 "cells": [
  {
   "cell_type": "code",
   "execution_count": 4,
   "id": "cf8b06dd",
   "metadata": {},
   "outputs": [],
   "source": [
    "import numpy as np\n",
    "\n",
    "# ファイルの読み込み\n",
    "with open(\"results/all_output.txt\", \"r\") as file:\n",
    "    numbers = file.read().splitlines()\n",
    "\n",
    "# 数値の解析\n",
    "numbers = [int(number) for number in numbers]\n",
    "\n",
    "# 平均と標準偏差の計算\n",
    "mean = np.mean(numbers)\n",
    "std_dev = np.std(numbers)\n",
    "\n",
    "# 結果を新しいファイルに書き込み\n",
    "with open(\"results/all_output_info.txt\", \"w\") as file:\n",
    "    file.write(f\"平均値: {mean}\\n\")\n",
    "    file.write(f\"標準偏差: {std_dev}\")\n"
   ]
  },
  {
   "cell_type": "code",
   "execution_count": null,
   "id": "f8cbaf70",
   "metadata": {},
   "outputs": [],
   "source": []
  }
 ],
 "metadata": {
  "kernelspec": {
   "display_name": "Python 3 (ipykernel)",
   "language": "python",
   "name": "python3"
  },
  "language_info": {
   "codemirror_mode": {
    "name": "ipython",
    "version": 3
   },
   "file_extension": ".py",
   "mimetype": "text/x-python",
   "name": "python",
   "nbconvert_exporter": "python",
   "pygments_lexer": "ipython3",
   "version": "3.9.12"
  }
 },
 "nbformat": 4,
 "nbformat_minor": 5
}
