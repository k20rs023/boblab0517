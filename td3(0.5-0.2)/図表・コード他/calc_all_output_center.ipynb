{
 "cells": [
  {
   "cell_type": "code",
   "execution_count": 2,
   "id": "dc63bfc2",
   "metadata": {},
   "outputs": [],
   "source": [
    "def median_calculator():\n",
    "    # ファイルから数値を読み込む\n",
    "    with open(\"results/all_output.txt\", \"r\") as file:\n",
    "        numbers = [int(line.strip()) for line in file]\n",
    "\n",
    "    # 数値をソートする\n",
    "    numbers.sort()\n",
    "\n",
    "    # 中央値を求める\n",
    "    length = len(numbers)\n",
    "    if length % 2 == 0:\n",
    "        median = (numbers[length // 2] + numbers[length // 2 - 1]) / 2\n",
    "    else:\n",
    "        median = numbers[length // 2]\n",
    "\n",
    "    # 中央値を新しいテキストファイルに出力する\n",
    "    with open(\"results/all_output_center.txt\", \"w\") as file:\n",
    "        file.write(str(median))\n",
    "\n",
    "median_calculator()\n"
   ]
  },
  {
   "cell_type": "code",
   "execution_count": null,
   "id": "c9461ce0",
   "metadata": {},
   "outputs": [],
   "source": []
  }
 ],
 "metadata": {
  "kernelspec": {
   "display_name": "Python 3 (ipykernel)",
   "language": "python",
   "name": "python3"
  },
  "language_info": {
   "codemirror_mode": {
    "name": "ipython",
    "version": 3
   },
   "file_extension": ".py",
   "mimetype": "text/x-python",
   "name": "python",
   "nbconvert_exporter": "python",
   "pygments_lexer": "ipython3",
   "version": "3.9.12"
  }
 },
 "nbformat": 4,
 "nbformat_minor": 5
}
