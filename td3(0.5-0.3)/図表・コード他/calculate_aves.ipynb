{
 "cells": [
  {
   "cell_type": "code",
   "execution_count": 1,
   "id": "03b7c353",
   "metadata": {},
   "outputs": [],
   "source": [
    "import os\n",
    "\n",
    "# ファイル名を格納するリスト\n",
    "file_names = [\"outputs/output (\" + str(i) + \").txt\" for i in range(1, 11)]\n",
    "\n",
    "sums = []  # 各行の数値の合計\n",
    "counts = []  # 各行の数値の個数\n",
    "\n",
    "for file_name in file_names:\n",
    "    try:\n",
    "        with open(file_name, 'r') as reader:\n",
    "            index = 0\n",
    "            for line in reader.readlines():\n",
    "                value = float(line)  # 行の数値を変換\n",
    "\n",
    "                # sums と counts のリストに値を追加または更新\n",
    "                if index >= len(sums):\n",
    "                    sums.append(value)\n",
    "                    counts.append(1)\n",
    "                else:\n",
    "                    sums[index] += value\n",
    "                    counts[index] += 1\n",
    "\n",
    "                index += 1\n",
    "    except IOError as e:\n",
    "        print(e)\n",
    "\n",
    "# 平均値を計算し、averages リストに追加\n",
    "averages = [sums[i] / counts[i] for i in range(len(sums))]\n",
    "\n",
    "# averages.txt に平均値を出力\n",
    "try:\n",
    "    with open(\"results/averages.txt\", 'w') as writer:\n",
    "        for average in averages:\n",
    "            writer.write(f\"{average:.2f}\\n\")  # 平均値をフォーマットして書き込み\n",
    "except IOError as e:\n",
    "    print(e)\n"
   ]
  },
  {
   "cell_type": "code",
   "execution_count": null,
   "id": "3192f1a5",
   "metadata": {},
   "outputs": [],
   "source": []
  }
 ],
 "metadata": {
  "kernelspec": {
   "display_name": "Python 3 (ipykernel)",
   "language": "python",
   "name": "python3"
  },
  "language_info": {
   "codemirror_mode": {
    "name": "ipython",
    "version": 3
   },
   "file_extension": ".py",
   "mimetype": "text/x-python",
   "name": "python",
   "nbconvert_exporter": "python",
   "pygments_lexer": "ipython3",
   "version": "3.9.12"
  }
 },
 "nbformat": 4,
 "nbformat_minor": 5
}
