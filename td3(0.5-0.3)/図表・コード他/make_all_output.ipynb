{
 "cells": [
  {
   "cell_type": "code",
   "execution_count": 1,
   "id": "92d6f61f",
   "metadata": {},
   "outputs": [],
   "source": [
    "with open('results/all_output.txt', 'w') as outfile:\n",
    "    for i in range(1, 11):  # 1から10までのループ\n",
    "        filename = f'outputs\\output ({i}).txt'  # ファイル名を作成\n",
    "        with open(filename, 'r') as infile:\n",
    "            for line in infile:  # 各行を読み込む\n",
    "                outfile.write(line)  # 新しいファイルに書き込む\n"
   ]
  },
  {
   "cell_type": "code",
   "execution_count": null,
   "id": "d342f4d2",
   "metadata": {},
   "outputs": [],
   "source": []
  }
 ],
 "metadata": {
  "kernelspec": {
   "display_name": "Python 3 (ipykernel)",
   "language": "python",
   "name": "python3"
  },
  "language_info": {
   "codemirror_mode": {
    "name": "ipython",
    "version": 3
   },
   "file_extension": ".py",
   "mimetype": "text/x-python",
   "name": "python",
   "nbconvert_exporter": "python",
   "pygments_lexer": "ipython3",
   "version": "3.9.12"
  }
 },
 "nbformat": 4,
 "nbformat_minor": 5
}
