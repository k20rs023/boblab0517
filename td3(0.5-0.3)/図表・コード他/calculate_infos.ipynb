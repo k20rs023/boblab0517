{
 "cells": [
  {
   "cell_type": "code",
   "execution_count": 1,
   "id": "d451a199",
   "metadata": {},
   "outputs": [],
   "source": [
    "import numpy as np\n",
    "\n",
    "# 統計情報を保存するためのリスト\n",
    "mean_list = []\n",
    "stddev_list = []\n",
    "range_list = []\n",
    "\n",
    "with open('results/output_infos.txt', 'w') as out_file:\n",
    "    for i in range(1, 11):\n",
    "        filename = f'outputs\\output ({i}).txt'\n",
    "        with open(filename, 'r') as in_file:\n",
    "            # ファイルの内容を数値リストとして読み込む\n",
    "            numbers = list(map(int, in_file.readlines()))\n",
    "\n",
    "        # 最後の30個の数値を取得\n",
    "        last_30_numbers = numbers[-30:]\n",
    "\n",
    "        # numpy配列に変換\n",
    "        arr = np.array(last_30_numbers)\n",
    "\n",
    "        # 平均値、標準偏差、最大値と最小値の差を計算\n",
    "        mean = np.mean(arr)\n",
    "        stddev = np.std(arr)\n",
    "        range_ = np.ptp(arr)\n",
    "\n",
    "        # 結果をリストに追加\n",
    "        mean_list.append(mean)\n",
    "        stddev_list.append(stddev)\n",
    "        range_list.append(range_)\n",
    "\n",
    "        # 結果をテキストファイルに書き込む\n",
    "        out_file.write(f'・output({i})\\n')\n",
    "        out_file.write(f'平均値：{mean}\\n')\n",
    "        out_file.write(f'標準偏差：{stddev}\\n')\n",
    "        out_file.write(f'最大値と最小値の差：{range_}\\n')\n",
    "        out_file.write('\\n')\n",
    "\n",
    "    # 各平均値を計算\n",
    "    mean_of_means = np.mean(mean_list)\n",
    "    mean_of_stddevs = np.mean(stddev_list)\n",
    "    mean_of_ranges = np.mean(range_list)\n",
    "\n",
    "    # 平均値をテキストファイルに書き込む\n",
    "    out_file.write('----------\\n')\n",
    "    out_file.write(f'平均値の平均値：{mean_of_means}\\n')\n",
    "    out_file.write(f'標準偏差の平均値：{mean_of_stddevs}\\n')\n",
    "    out_file.write(f'最大値と最小値の差の平均値：{mean_of_ranges}\\n')\n"
   ]
  },
  {
   "cell_type": "code",
   "execution_count": null,
   "id": "83ba61ab",
   "metadata": {},
   "outputs": [],
   "source": []
  }
 ],
 "metadata": {
  "kernelspec": {
   "display_name": "Python 3 (ipykernel)",
   "language": "python",
   "name": "python3"
  },
  "language_info": {
   "codemirror_mode": {
    "name": "ipython",
    "version": 3
   },
   "file_extension": ".py",
   "mimetype": "text/x-python",
   "name": "python",
   "nbconvert_exporter": "python",
   "pygments_lexer": "ipython3",
   "version": "3.9.12"
  }
 },
 "nbformat": 4,
 "nbformat_minor": 5
}
