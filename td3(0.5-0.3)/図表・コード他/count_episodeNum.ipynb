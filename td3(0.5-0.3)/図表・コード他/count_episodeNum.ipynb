{
 "cells": [
  {
   "cell_type": "code",
   "execution_count": 1,
   "id": "248c27b5",
   "metadata": {},
   "outputs": [],
   "source": [
    "def count_lines_in_file(filename):\n",
    "    with open(filename, 'r') as f:\n",
    "        return len(f.readlines())\n",
    "\n",
    "output_lines = []\n",
    "for i in range(1, 11):  # 1から10までの範囲\n",
    "    filename = f\"outputs\\output ({i}).txt\"\n",
    "    num_lines = count_lines_in_file(filename)\n",
    "    output_lines.append(str(num_lines))\n",
    "\n",
    "with open(\"results/episodeNum.txt\", 'w') as f:\n",
    "    f.write(\"\\n\".join(output_lines))\n"
   ]
  },
  {
   "cell_type": "code",
   "execution_count": null,
   "id": "3a5a46c7",
   "metadata": {},
   "outputs": [],
   "source": []
  }
 ],
 "metadata": {
  "kernelspec": {
   "display_name": "Python 3 (ipykernel)",
   "language": "python",
   "name": "python3"
  },
  "language_info": {
   "codemirror_mode": {
    "name": "ipython",
    "version": 3
   },
   "file_extension": ".py",
   "mimetype": "text/x-python",
   "name": "python",
   "nbconvert_exporter": "python",
   "pygments_lexer": "ipython3",
   "version": "3.9.12"
  }
 },
 "nbformat": 4,
 "nbformat_minor": 5
}
